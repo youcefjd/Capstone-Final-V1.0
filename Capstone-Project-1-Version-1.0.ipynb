{
 "cells": [
  {
   "cell_type": "code",
   "execution_count": 1,
   "metadata": {},
   "outputs": [],
   "source": [
    "%load_ext autoreload\n",
    "%autoreload 2\n",
    "\n",
    "%matplotlib inline"
   ]
  },
  {
   "cell_type": "code",
   "execution_count": 74,
   "metadata": {},
   "outputs": [],
   "source": [
    "from fastai.imports import *\n",
    "from fastai.structured import *\n",
    "\n",
    "from pandas_summary import DataFrameSummary\n",
    "from sklearn.ensemble import RandomForestRegressor, RandomForestClassifier\n",
    "from IPython.display import display\n",
    "from matplotlib.pyplot import figure\n",
    "from scipy.stats import norm\n",
    "from sklearn.model_selection import train_test_split, KFold, cross_val_score\n",
    "from scipy import stats\n",
    "from sklearn import metrics"
   ]
  },
  {
   "cell_type": "markdown",
   "metadata": {},
   "source": [
    "\n",
    "# I. Data Wrangling\n",
    "## 1. Primary Exploratory Data Analysis\n",
    "### 1.1. Dataset\n",
    " I have chosen to work on an interesting dataset that I found on the NASA’s website\n",
    "(https://data.nasa.gov/Space-Science/Meteorite-Landings/gh4g-9sfh), encompassing the\n",
    "complete list of around 45000 meteorite landings on earth since the year 601. Each meteorite\n",
    "is further described by the 10 columns listed below:\n",
    "\n",
    "▪ name: the name of the meteorite (typically a location, often modified with a\n",
    "number, year, composition, etc)\n",
    "\n",
    "▪ id: a unique identifier for the meteorite\n",
    "\n",
    "▪ nametype: one of: -- valid: a typical meteorite -- relict: a meteorite that has\n",
    "been highly degraded by weather on Earth\n",
    "\n",
    "▪ recclass: the class of the meteorite; one of a large number of classes based on\n",
    "physical, chemical, and other characteristics\n",
    "\n",
    "▪ mass: the mass of the meteorite, in grams\n",
    "\n",
    "▪ fall: whether the meteorite was seen falling, or was discovered after its\n",
    "impact; one of: -- Fell: the meteorite's fall was observed -- Found: the\n",
    "meteorite's fall was not observed\n",
    "\n",
    "▪ year: the year the meteorite fell, or the year it was found (depending on the\n",
    "value of fell)\n",
    "\n",
    "▪ reclat: the latitude of the meteorite's landing\n",
    "\n",
    "▪ reclong: the longitude of the meteorite's landing\n",
    "\n",
    "▪ GeoLocation: a parentheses-enclose, comma-separated tuple that\n",
    "combines reclat and reclong"
   ]
  },
  {
   "cell_type": "code",
   "execution_count": 33,
   "metadata": {},
   "outputs": [],
   "source": [
    "# Reading the CSV file\n",
    "# The result is a Pandas DataFrame (data). A datatype easy to read\n",
    "data = pd.read_csv('/users/youcefdjeddar/downloads/meteorite-landings.csv')"
   ]
  },
  {
   "cell_type": "code",
   "execution_count": 34,
   "metadata": {},
   "outputs": [
    {
     "data": {
      "text/html": [
       "<div>\n",
       "<style scoped>\n",
       "    .dataframe tbody tr th:only-of-type {\n",
       "        vertical-align: middle;\n",
       "    }\n",
       "\n",
       "    .dataframe tbody tr th {\n",
       "        vertical-align: top;\n",
       "    }\n",
       "\n",
       "    .dataframe thead th {\n",
       "        text-align: right;\n",
       "    }\n",
       "</style>\n",
       "<table border=\"1\" class=\"dataframe\">\n",
       "  <thead>\n",
       "    <tr style=\"text-align: right;\">\n",
       "      <th></th>\n",
       "      <th>name</th>\n",
       "      <th>id</th>\n",
       "      <th>nametype</th>\n",
       "      <th>recclass</th>\n",
       "      <th>mass</th>\n",
       "      <th>fall</th>\n",
       "      <th>year</th>\n",
       "      <th>reclat</th>\n",
       "      <th>reclong</th>\n",
       "      <th>GeoLocation</th>\n",
       "    </tr>\n",
       "  </thead>\n",
       "  <tbody>\n",
       "    <tr>\n",
       "      <th>0</th>\n",
       "      <td>Aachen</td>\n",
       "      <td>1</td>\n",
       "      <td>Valid</td>\n",
       "      <td>L5</td>\n",
       "      <td>21.0</td>\n",
       "      <td>Fell</td>\n",
       "      <td>1880.0</td>\n",
       "      <td>50.77500</td>\n",
       "      <td>6.08333</td>\n",
       "      <td>(50.775000, 6.083330)</td>\n",
       "    </tr>\n",
       "    <tr>\n",
       "      <th>1</th>\n",
       "      <td>Aarhus</td>\n",
       "      <td>2</td>\n",
       "      <td>Valid</td>\n",
       "      <td>H6</td>\n",
       "      <td>720.0</td>\n",
       "      <td>Fell</td>\n",
       "      <td>1951.0</td>\n",
       "      <td>56.18333</td>\n",
       "      <td>10.23333</td>\n",
       "      <td>(56.183330, 10.233330)</td>\n",
       "    </tr>\n",
       "    <tr>\n",
       "      <th>2</th>\n",
       "      <td>Abee</td>\n",
       "      <td>6</td>\n",
       "      <td>Valid</td>\n",
       "      <td>EH4</td>\n",
       "      <td>107000.0</td>\n",
       "      <td>Fell</td>\n",
       "      <td>1952.0</td>\n",
       "      <td>54.21667</td>\n",
       "      <td>-113.00000</td>\n",
       "      <td>(54.216670, -113.000000)</td>\n",
       "    </tr>\n",
       "  </tbody>\n",
       "</table>\n",
       "</div>"
      ],
      "text/plain": [
       "     name  id nametype recclass      mass  fall    year    reclat    reclong  \\\n",
       "0  Aachen   1    Valid       L5      21.0  Fell  1880.0  50.77500    6.08333   \n",
       "1  Aarhus   2    Valid       H6     720.0  Fell  1951.0  56.18333   10.23333   \n",
       "2    Abee   6    Valid      EH4  107000.0  Fell  1952.0  54.21667 -113.00000   \n",
       "\n",
       "                GeoLocation  \n",
       "0     (50.775000, 6.083330)  \n",
       "1    (56.183330, 10.233330)  \n",
       "2  (54.216670, -113.000000)  "
      ]
     },
     "execution_count": 34,
     "metadata": {},
     "output_type": "execute_result"
    }
   ],
   "source": [
    "# Exploring the data using the .head() method \n",
    "data.head(3)"
   ]
  },
  {
   "cell_type": "code",
   "execution_count": 35,
   "metadata": {},
   "outputs": [
    {
     "name": "stdout",
     "output_type": "stream",
     "text": [
      "name              0\n",
      "id                0\n",
      "nametype          0\n",
      "recclass          0\n",
      "mass            131\n",
      "fall              0\n",
      "year            288\n",
      "reclat         7315\n",
      "reclong        7315\n",
      "GeoLocation    7315\n",
      "dtype: int64\n"
     ]
    }
   ],
   "source": [
    "# Looking for missing values \n",
    "missing_values_count = data.isnull().sum() \n",
    "print(missing_values_count)"
   ]
  },
  {
   "cell_type": "code",
   "execution_count": 36,
   "metadata": {},
   "outputs": [
    {
     "data": {
      "text/plain": [
       "True"
      ]
     },
     "execution_count": 36,
     "metadata": {},
     "output_type": "execute_result"
    }
   ],
   "source": [
    "# Checking that the ID column has unique values\n",
    "data['id'].is_unique"
   ]
  },
  {
   "cell_type": "code",
   "execution_count": 37,
   "metadata": {},
   "outputs": [
    {
     "name": "stdout",
     "output_type": "stream",
     "text": [
      "The percentage of missing values in the mass column is: 0.28655175430921337 %\n",
      "The percentage of missing values in the year column is: 0.6299763758859043 %\n",
      "The percentage of missing values in the location column is: 16.0009624639076 %\n"
     ]
    }
   ],
   "source": [
    "# Determining the percentage of missing values for each column\n",
    "mass_missing_values = (missing_values_count['mass']/len(data.mass)) * 100 \n",
    "year_missing_values = (missing_values_count['year']/len(data.year)) * 100 \n",
    "location_missing_values = (missing_values_count['GeoLocation']/len(data.GeoLocation)) * 100\n",
    "print('The percentage of missing values in the mass column is:', mass_missing_values,'%')\n",
    "print ('The percentage of missing values in the year column is:', year_missing_values,'%') \n",
    "print('The percentage of missing values in the location column is:', location_missing_values,'%')"
   ]
  },
  {
   "cell_type": "code",
   "execution_count": 38,
   "metadata": {},
   "outputs": [
    {
     "data": {
      "text/plain": [
       "name           0\n",
       "id             0\n",
       "nametype       0\n",
       "recclass       0\n",
       "mass           0\n",
       "fall           0\n",
       "year           0\n",
       "reclat         0\n",
       "reclong        0\n",
       "GeoLocation    0\n",
       "dtype: int64"
      ]
     },
     "execution_count": 38,
     "metadata": {},
     "output_type": "execute_result"
    }
   ],
   "source": [
    "# Since it is impossible to guess the values of the missing data, it is preferable to delete them \n",
    "# We can see that all the missing values are gone\n",
    "data = data.dropna()\n",
    "data.isnull().sum()"
   ]
  },
  {
   "cell_type": "code",
   "execution_count": 39,
   "metadata": {},
   "outputs": [
    {
     "name": "stdout",
     "output_type": "stream",
     "text": [
      "<class 'pandas.core.frame.DataFrame'>\n",
      "Int64Index: 38116 entries, 0 to 45715\n",
      "Data columns (total 10 columns):\n",
      "name           38116 non-null object\n",
      "id             38116 non-null int64\n",
      "nametype       38116 non-null object\n",
      "recclass       38116 non-null object\n",
      "mass           38116 non-null float64\n",
      "fall           38116 non-null object\n",
      "year           38116 non-null float64\n",
      "reclat         38116 non-null float64\n",
      "reclong        38116 non-null float64\n",
      "GeoLocation    38116 non-null object\n",
      "dtypes: float64(4), int64(1), object(5)\n",
      "memory usage: 3.2+ MB\n"
     ]
    }
   ],
   "source": [
    "# Getting some information about our dataset\n",
    "data.info()"
   ]
  },
  {
   "cell_type": "code",
   "execution_count": 40,
   "metadata": {},
   "outputs": [
    {
     "name": "stdout",
     "output_type": "stream",
     "text": [
      "L6                 7519\n",
      "H5                 6243\n",
      "H6                 3898\n",
      "H4                 3880\n",
      "L5                 3264\n",
      "LL5                2199\n",
      "LL6                1660\n",
      "L4                  939\n",
      "H4/5                395\n",
      "CM2                 330\n",
      "H3                  313\n",
      "CO3                 308\n",
      "Iron, IIIAB         270\n",
      "L3                  268\n",
      "LL                  223\n",
      "Ureilite            214\n",
      "E3                  205\n",
      "LL4                 198\n",
      "CV3                 184\n",
      "Howardite           179\n",
      "Diogenite           178\n",
      "Eucrite-pmict       169\n",
      "H5/6                166\n",
      "CR2                 116\n",
      "Eucrite             115\n",
      "Iron, IIAB          111\n",
      "Mesosiderite        107\n",
      "H~5                 106\n",
      "Iron, ungrouped     105\n",
      "LL3                  88\n",
      "                   ... \n",
      "EH3/4-an              1\n",
      "L3.3-3.7              1\n",
      "H4(?)                 1\n",
      "Mesosiderite-A2       1\n",
      "LL6                   1\n",
      "LL3.1-3.5             1\n",
      "Stone-ung             1\n",
      "L3.3-3.5              1\n",
      "R3-4                  1\n",
      "CR-an                 1\n",
      "L3.0-3.9              1\n",
      "L/LL3.10              1\n",
      "EL4/5                 1\n",
      "L/LL3-6               1\n",
      "L3.00                 1\n",
      "L3.7/3.8              1\n",
      "Howardite-an          1\n",
      "L/LL5/6               1\n",
      "LL3.7-6               1\n",
      "L3.9-6                1\n",
      "L/LL                  1\n",
      "K                     1\n",
      "Iron, IID-an          1\n",
      "L3.8-6                1\n",
      "L3.7-3.9              1\n",
      "H3.0-3.4              1\n",
      "H/L3                  1\n",
      "C2                    1\n",
      "CK                    1\n",
      "L3.5-3.7              1\n",
      "Name: recclass, Length: 422, dtype: int64\n"
     ]
    }
   ],
   "source": [
    "# Let's see how many meteorite classes the dataset has\n",
    "meteorite_class = data['recclass'].value_counts() \n",
    "print(meteorite_class)"
   ]
  },
  {
   "cell_type": "code",
   "execution_count": 41,
   "metadata": {},
   "outputs": [
    {
     "name": "stdout",
     "output_type": "stream",
     "text": [
      "Top 10 meteorite classes: 30327\n"
     ]
    }
   ],
   "source": [
    "# Below we can see that the top ten classes encompass 30k meteorites, which is a lot\n",
    "print('Top 10 meteorite classes:', meteorite_class[:10].sum())"
   ]
  },
  {
   "cell_type": "code",
   "execution_count": 42,
   "metadata": {},
   "outputs": [
    {
     "name": "stdout",
     "output_type": "stream",
     "text": [
      "79.56501206842272\n"
     ]
    }
   ],
   "source": [
    "# Nearly 80% of all the meteorites belong to one of the top ten classes\n",
    "percentage_meteorites_in_the_top_ten_classes = (meteorite_class[:10].sum()/len(data)) * 100\n",
    "print (percentage_meteorites_in_the_top_ten_classes)"
   ]
  },
  {
   "cell_type": "markdown",
   "metadata": {},
   "source": [
    "Since 80% of the meteorites belong to one of the top ten classes, I will focus primarily on them."
   ]
  },
  {
   "cell_type": "code",
   "execution_count": 43,
   "metadata": {},
   "outputs": [],
   "source": [
    "# Extracting the needed data (from the top 10 classes)\n",
    "top_10 = data['recclass'].value_counts().index.tolist()[:10]\n",
    "df = data[data['recclass'].isin(top_10)]"
   ]
  },
  {
   "cell_type": "code",
   "execution_count": 44,
   "metadata": {},
   "outputs": [
    {
     "data": {
      "text/plain": [
       "30327"
      ]
     },
     "execution_count": 44,
     "metadata": {},
     "output_type": "execute_result"
    }
   ],
   "source": [
    "len(df)"
   ]
  },
  {
   "cell_type": "markdown",
   "metadata": {},
   "source": [
    "The DataFrame \"df\" is now regrouping the meteorites of the top ten classes only. \n",
    "\n",
    "Let's now do some data visualization to understand more our data."
   ]
  },
  {
   "cell_type": "markdown",
   "metadata": {},
   "source": [
    "# II. Data Visualization\n",
    "## 1. Intro\n",
    " The initial dataset from the NASA had 422 meteorite classes in it. A high number that did not\n",
    "necessarily reflect the distribution of meteorites. Indeed, as shown in the Phase-1 (Data\n",
    "Wrangling), the top ten meteorite classes encompassed approximately 80% of the total number\n",
    "of meteorites. For that reason, I decided to neglect – for now, the remaining 20% of the data – for\n",
    "a more concrete analysis.\n",
    "## 2. Visualization\n",
    "### 2.1. Scatter Plot\n",
    " After extracting the needed segments, I used the Matplotlib Library to generate a Scatter\n",
    "Plot (meteorite classes on the x-axis and their mass on the y-axis) to see the distribution of the\n",
    "mass per class. Surprisingly, with the notable exception of a few outliers, the distribution was\n",
    "quite homogenous among the ten classes, with the majority of the meteorites having a mass\n",
    "range 0-500kg. Here are some conclusions:\n",
    "\n",
    "▪ The heaviest meteorite belongs to the H5 class;\n",
    "\n",
    "▪ The class L6 is more homogenous;\n",
    "\n",
    "▪ The class CM2 has the lightest meteorites.\n",
    "\n",
    "### 2.2. Seaborn lmplot\n",
    " I used the Seaborn Library to visualize a sort of a time-series plot showing the distribution\n",
    "of the landings throughout the entire timescale of the dataset. Not surprisingly, most of the landings\n",
    "occurred after the 19th century, which can be explained by the restricted technological advances\n",
    "prior to that time, where only landings that were actually observed by humans were recorded.\n",
    "The third plot shows the mass of the meteorites that landed throughout the timescale. Here are\n",
    "some conclusions:\n",
    "\n",
    "▪ Accurate landing records really started in the 19th century;\n",
    "\n",
    "▪ Recent meteorites seem to be heavier – which is probably due to the drastic\n",
    "increase of the landing records recently. More records => more meteorite\n",
    "landings => potentially heavier meteorites.\n",
    "### 2.3. Plotly Library\n",
    "#### 2.3.1. Scatter Plot\n",
    "I opted for the Plotly Library for more esthetic plots. It’s a bit slower and requires an\n",
    "API-Key to run adequately but it provides a variety of options that cannot be found\n",
    "elsewhere. The scatter plot shows the distribution of the top ten meteorite classes. We\n",
    "can learn, for example, that the L6 class is the oldest class observed and that the H4/5\n",
    "class is contemporary.\n",
    "#### 2.3.2. Scatter Map Box\n",
    "This is, I believe, the most interesting plot provided by the Plotly Library. I tried to plot\n",
    "the geo-location of about 35.000 the meteorite on the dataset, based on the latitude and\n",
    "the longitude of the places where they landed. Surprisingly, only a minority of the\n",
    "meteorites landed in the seas/oceans, despite them constituting around 70% of the\n",
    "planet. "
   ]
  },
  {
   "cell_type": "code",
   "execution_count": 45,
   "metadata": {},
   "outputs": [
    {
     "data": {
      "image/png": "[encoded data removed]",
      "text/plain": [
       "<Figure size 640x480 with 1 Axes>"
      ]
     },
     "metadata": {},
     "output_type": "display_data"
    }
   ],
   "source": [
    "# Scatter plot of the ten meteorite classes on the x-axis and the mass of each meteorite on the y-axis\n",
    "figure(num=None, figsize=(8, 6), dpi=80, facecolor='w', edgecolor='k')\n",
    "sns.set()\n",
    "plt.scatter(df.recclass, df.mass/1000, marker = 'o', color = 'blue', label = 'mass')\n",
    "plt.xlabel('Meteorite Classes')\n",
    "plt.ylabel('Mass (kg)')\n",
    "plt.title('Scatter Plot')\n",
    "plt.margins (0.2)"
   ]
  },
  {
   "cell_type": "code",
   "execution_count": 46,
   "metadata": {},
   "outputs": [
    {
     "data": {
      "text/plain": [
       "<seaborn.axisgrid.FacetGrid at 0x12ada1ef0>"
      ]
     },
     "execution_count": 46,
     "metadata": {},
     "output_type": "execute_result"
    },
    {
     "data": {
      "image/png": "[encoded data removed]",
      "text/plain": [
       "<Figure size 360x360 with 1 Axes>"
      ]
     },
     "metadata": {},
     "output_type": "display_data"
    }
   ],
   "source": [
    "sns.lmplot('year', 'id', data=df, fit_reg=False)\n",
    "# The plot shows that the landing frequency significantly increased starting from the 19th century"
   ]
  },
  {
   "cell_type": "code",
   "execution_count": 47,
   "metadata": {},
   "outputs": [
    {
     "data": {
      "text/plain": [
       "<seaborn.axisgrid.FacetGrid at 0x12ada9d68>"
      ]
     },
     "execution_count": 47,
     "metadata": {},
     "output_type": "execute_result"
    },
    {
     "data": {
      "image/png": "[encoded data removed]",
      "text/plain": [
       "<Figure size 360x360 with 1 Axes>"
      ]
     },
     "metadata": {},
     "output_type": "display_data"
    }
   ],
   "source": [
    "sns.lmplot('year', 'mass', data=df, fit_reg=False)\n",
    "# The plot below shows that most of the contemporary meteorites are heavier"
   ]
  },
  {
   "cell_type": "code",
   "execution_count": 19,
   "metadata": {},
   "outputs": [
    {
     "ename": "NameError",
     "evalue": "name 'go' is not defined",
     "output_type": "error",
     "traceback": [
      "\u001b[0;31m---------------------------------------------------------------------------\u001b[0m",
      "\u001b[0;31mNameError\u001b[0m                                 Traceback (most recent call last)",
      "\u001b[0;32m<ipython-input-19-7d6017b3327d>\u001b[0m in \u001b[0;36m<module>\u001b[0;34m\u001b[0m\n\u001b[1;32m      5\u001b[0m \u001b[0msite_lon\u001b[0m \u001b[0;34m=\u001b[0m \u001b[0mdf\u001b[0m\u001b[0;34m.\u001b[0m\u001b[0mreclong\u001b[0m\u001b[0;34m\u001b[0m\u001b[0m\n\u001b[1;32m      6\u001b[0m data = [\n\u001b[0;32m----> 7\u001b[0;31m     go.Scattermapbox(\n\u001b[0m\u001b[1;32m      8\u001b[0m         \u001b[0mlat\u001b[0m\u001b[0;34m=\u001b[0m\u001b[0msite_lat\u001b[0m\u001b[0;34m,\u001b[0m\u001b[0;34m\u001b[0m\u001b[0m\n\u001b[1;32m      9\u001b[0m         \u001b[0mlon\u001b[0m\u001b[0;34m=\u001b[0m\u001b[0msite_lon\u001b[0m\u001b[0;34m,\u001b[0m\u001b[0;34m\u001b[0m\u001b[0m\n",
      "\u001b[0;31mNameError\u001b[0m: name 'go' is not defined"
     ]
    }
   ],
   "source": [
    "# Landings distribution on a map (using the properties lat and long)\n",
    "\n",
    "mapbox_access_token = 'dhjrzm2c8j'\n",
    "site_lat = df.reclat\n",
    "site_lon = df.reclong\n",
    "data = [\n",
    "    go.Scattermapbox(\n",
    "        lat=site_lat,\n",
    "        lon=site_lon,\n",
    "        mode='markers',\n",
    "        marker=dict(\n",
    "            size=17,\n",
    "            color='rgb(255, 0, 0)',\n",
    "            opacity=0.7\n",
    "        ),\n",
    "        hoverinfo='text'\n",
    "    ),\n",
    "    ]\n",
    "\n",
    "\n",
    "\n",
    "\n",
    "\n",
    "fig = dict(data=data)\n",
    "\n",
    "py.iplot(fig, filename='jupyter-Meteorite-Landings')"
   ]
  },
  {
   "cell_type": "code",
   "execution_count": null,
   "metadata": {},
   "outputs": [],
   "source": [
    "# Landings distribution on a map (using the properties lat and long)\n",
    "\n",
    "mapbox_access_token = 'dhjrzm2c8j'\n",
    "site_lat = df.reclat\n",
    "site_lon = df.reclong\n",
    "data = [\n",
    "    go.Scattermapbox(\n",
    "        lat=site_lat,\n",
    "        lon=site_lon,\n",
    "        mode='markers',\n",
    "        marker=dict(\n",
    "            size=17,\n",
    "            color='rgb(255, 0, 0)',\n",
    "            opacity=0.7\n",
    "        ),\n",
    "        hoverinfo='text'\n",
    "    ),\n",
    "    ]\n",
    "\n",
    "\n",
    "\n",
    "\n",
    "\n",
    "fig = dict(data=data)\n",
    "\n",
    "py.iplot(fig, filename='jupyter-Meteorite-Landings')"
   ]
  },
  {
   "cell_type": "markdown",
   "metadata": {},
   "source": [
    "## Note\n",
    "Because the library required an API-Key to run, I couldn’t share the plots on the Jupyter Notebook. Screenshots of the Scatter Plots and the Scatter Map Box can be found here: https://github.com/youcefjd/Meteorite-Project-Phase-2/blob/master/Data%20Visualization.pdf"
   ]
  },
  {
   "cell_type": "markdown",
   "metadata": {},
   "source": [
    "# III. Statistical Thinking\n",
    " Often, it is very useful to think \"statistically\". Numbers are the language of the universe, they help us understand things more clearly. Conducting a statistical analysis helped me to understand some \"hidden\" aspects of the dataset.\n",
    "In this section, I tried to perform a coherent statistical analysis. The dataset being very tedious, the resulsts are quite restricted. However, they offer an interesting \"plus-value\"."
   ]
  },
  {
   "cell_type": "code",
   "execution_count": 48,
   "metadata": {},
   "outputs": [
    {
     "data": {
      "text/html": [
       "<div>\n",
       "<style scoped>\n",
       "    .dataframe tbody tr th:only-of-type {\n",
       "        vertical-align: middle;\n",
       "    }\n",
       "\n",
       "    .dataframe tbody tr th {\n",
       "        vertical-align: top;\n",
       "    }\n",
       "\n",
       "    .dataframe thead th {\n",
       "        text-align: right;\n",
       "    }\n",
       "</style>\n",
       "<table border=\"1\" class=\"dataframe\">\n",
       "  <thead>\n",
       "    <tr style=\"text-align: right;\">\n",
       "      <th></th>\n",
       "      <th>id</th>\n",
       "      <th>mass</th>\n",
       "      <th>year</th>\n",
       "      <th>reclat</th>\n",
       "      <th>reclong</th>\n",
       "    </tr>\n",
       "  </thead>\n",
       "  <tbody>\n",
       "    <tr>\n",
       "      <th>count</th>\n",
       "      <td>30327.000000</td>\n",
       "      <td>3.032700e+04</td>\n",
       "      <td>30327.000000</td>\n",
       "      <td>30327.000000</td>\n",
       "      <td>30327.000000</td>\n",
       "    </tr>\n",
       "    <tr>\n",
       "      <th>mean</th>\n",
       "      <td>25105.327464</td>\n",
       "      <td>1.534274e+03</td>\n",
       "      <td>1991.651861</td>\n",
       "      <td>-44.190882</td>\n",
       "      <td>67.709503</td>\n",
       "    </tr>\n",
       "    <tr>\n",
       "      <th>std</th>\n",
       "      <td>17101.950186</td>\n",
       "      <td>2.972658e+04</td>\n",
       "      <td>20.742622</td>\n",
       "      <td>44.862046</td>\n",
       "      <td>80.915431</td>\n",
       "    </tr>\n",
       "    <tr>\n",
       "      <th>min</th>\n",
       "      <td>1.000000</td>\n",
       "      <td>1.000000e-02</td>\n",
       "      <td>860.000000</td>\n",
       "      <td>-87.366670</td>\n",
       "      <td>-165.433330</td>\n",
       "    </tr>\n",
       "    <tr>\n",
       "      <th>25%</th>\n",
       "      <td>11165.500000</td>\n",
       "      <td>6.000000e+00</td>\n",
       "      <td>1986.000000</td>\n",
       "      <td>-79.683330</td>\n",
       "      <td>2.866670</td>\n",
       "    </tr>\n",
       "    <tr>\n",
       "      <th>50%</th>\n",
       "      <td>21329.000000</td>\n",
       "      <td>2.370000e+01</td>\n",
       "      <td>1996.000000</td>\n",
       "      <td>-71.787500</td>\n",
       "      <td>54.565330</td>\n",
       "    </tr>\n",
       "    <tr>\n",
       "      <th>75%</th>\n",
       "      <td>39372.500000</td>\n",
       "      <td>1.335500e+02</td>\n",
       "      <td>2002.000000</td>\n",
       "      <td>0.000000</td>\n",
       "      <td>159.282235</td>\n",
       "    </tr>\n",
       "    <tr>\n",
       "      <th>max</th>\n",
       "      <td>57457.000000</td>\n",
       "      <td>4.000000e+06</td>\n",
       "      <td>2013.000000</td>\n",
       "      <td>81.166670</td>\n",
       "      <td>175.730280</td>\n",
       "    </tr>\n",
       "  </tbody>\n",
       "</table>\n",
       "</div>"
      ],
      "text/plain": [
       "                 id          mass          year        reclat       reclong\n",
       "count  30327.000000  3.032700e+04  30327.000000  30327.000000  30327.000000\n",
       "mean   25105.327464  1.534274e+03   1991.651861    -44.190882     67.709503\n",
       "std    17101.950186  2.972658e+04     20.742622     44.862046     80.915431\n",
       "min        1.000000  1.000000e-02    860.000000    -87.366670   -165.433330\n",
       "25%    11165.500000  6.000000e+00   1986.000000    -79.683330      2.866670\n",
       "50%    21329.000000  2.370000e+01   1996.000000    -71.787500     54.565330\n",
       "75%    39372.500000  1.335500e+02   2002.000000      0.000000    159.282235\n",
       "max    57457.000000  4.000000e+06   2013.000000     81.166670    175.730280"
      ]
     },
     "execution_count": 48,
     "metadata": {},
     "output_type": "execute_result"
    }
   ],
   "source": [
    "# The method \"describe\" is always a great start\n",
    "df.describe()"
   ]
  },
  {
   "cell_type": "markdown",
   "metadata": {},
   "source": [
    "The \"mass\" column seems to be interesting. I will focus on analyzing it further. "
   ]
  },
  {
   "cell_type": "code",
   "execution_count": 49,
   "metadata": {},
   "outputs": [
    {
     "data": {
      "text/plain": [
       "count    3.032700e+04\n",
       "mean     1.534274e+03\n",
       "std      2.972658e+04\n",
       "min      1.000000e-02\n",
       "25%      6.000000e+00\n",
       "50%      2.370000e+01\n",
       "75%      1.335500e+02\n",
       "max      4.000000e+06\n",
       "Name: mass, dtype: float64"
      ]
     },
     "execution_count": 49,
     "metadata": {},
     "output_type": "execute_result"
    }
   ],
   "source": [
    "df.mass.describe()"
   ]
  },
  {
   "cell_type": "code",
   "execution_count": 50,
   "metadata": {},
   "outputs": [
    {
     "data": {
      "text/plain": [
       "Text(0.5,1,'Seaborn Box Plot')"
      ]
     },
     "execution_count": 50,
     "metadata": {},
     "output_type": "execute_result"
    },
    {
     "data": {
      "image/png": "[encoded data removed]",
      "text/plain": [
       "<Figure size 432x288 with 1 Axes>"
      ]
     },
     "metadata": {},
     "output_type": "display_data"
    }
   ],
   "source": [
    "sns.boxplot(x ='recclass', y='mass', data = df)\n",
    "plt.xlabel('Meteorite Classes')\n",
    "plt.ylabel('Mass (g)')\n",
    "plt.title('Seaborn Box Plot')"
   ]
  },
  {
   "cell_type": "markdown",
   "metadata": {},
   "source": [
    "The Box Plot doesn't offer much indications. I will try to \"zoom\" on the y-axis, since the mass is on average in between 0 and 100g"
   ]
  },
  {
   "cell_type": "code",
   "execution_count": 51,
   "metadata": {},
   "outputs": [
    {
     "data": {
      "text/plain": [
       "Text(0.5,1,'Seaborn Box Plot')"
      ]
     },
     "execution_count": 51,
     "metadata": {},
     "output_type": "execute_result"
    },
    {
     "data": {
      "image/png": "[encoded data removed]",
      "text/plain": [
       "<Figure size 432x288 with 1 Axes>"
      ]
     },
     "metadata": {},
     "output_type": "display_data"
    }
   ],
   "source": [
    "sns.boxplot(x ='recclass', y='mass', data = df)\n",
    "plt.ylim(0, 100)\n",
    "plt.xlabel('Meteorite Classes')\n",
    "plt.ylabel('Mass (g)')\n",
    "plt.title('Seaborn Box Plot')\n"
   ]
  },
  {
   "cell_type": "markdown",
   "metadata": {},
   "source": [
    "Another interesting statistical figure is the EDF (Empirical Distribution Function). \n",
    "\n",
    "In statistics, an empirical distribution function is the distribution function associated with the empirical measure of a sample. This cumulative distribution function is a step function that jumps up by 1/n at each of the n data points. Its value at any specified value of the measured variable is the fraction of observations of the measured variable that are less than or equal to the specified value. - source Wikipedia\n",
    "\n",
    "Another definition: \n",
    "\n",
    "An empirical cumulative distribution function (also called the empirical distribution function, ECDF, or just EDF) and a cumulative distribution function are basically the same thing: they are both probability models for data. However, while a CDF is a hypothetical model of a distribution, the ECDF models empirical (i.e. observed) data. To put this another way, the ECDF is the probability distribution you would get if you sampled from your sample, instead of the population. Let’s say you have a set of experimental (observed) data x1, x2 …,xn. The EDF will give you the fraction of sample observations less than or equal to a particular value of x.\n",
    "\n",
    "\n"
   ]
  },
  {
   "cell_type": "code",
   "execution_count": 52,
   "metadata": {},
   "outputs": [
    {
     "data": {
      "text/plain": [
       "Text(0.5,1,'EDF')"
      ]
     },
     "execution_count": 52,
     "metadata": {},
     "output_type": "execute_result"
    },
    {
     "data": {
      "image/png": "[encoded data removed]",
      "text/plain": [
       "<Figure size 640x480 with 1 Axes>"
      ]
     },
     "metadata": {},
     "output_type": "display_data"
    }
   ],
   "source": [
    "# Extracting the mass column and plotting it\n",
    "x = np.sort(df.mass)\n",
    "y = np.arange(1, len(x)+1)/len(x)\n",
    "sns.set()\n",
    "figure(num=None, figsize=(8, 6), dpi=80, facecolor='w', edgecolor='k')\n",
    "_ = plt.plot(x, y, marker= '.', linestyle='none')\n",
    "plt.xlim = (0, 1000000)\n",
    "plt.margins(0.2)\n",
    "plt.xlabel('Mass (g)')\n",
    "plt.title('EDF')"
   ]
  },
  {
   "cell_type": "markdown",
   "metadata": {},
   "source": [
    "The graph doesn't tell us a lot about the distribution of the data (the mass). There's another figure that could help us have more information about the distribution, it is called the PDF (Probability Density Function)\n",
    "\n",
    "In probability theory, a probability density function (PDF), or density of a continuous random variable, is a function, whose value at any given sample (or point) in the sample space (the set of possible values taken by the random variable) can be interpreted as providing a relative likelihood that the value of the random variable would equal that sample.[citation needed] In other words, while the absolute likelihood for a continuous random variable to take on any particular value is 0 (since there are an infinite set of possible values to begin with), the value of the PDF at two different samples can be used to infer, in any particular draw of the random variable, how much more likely it is that the random variable would equal one sample compared to the other sample. - source Wikipedia"
   ]
  },
  {
   "cell_type": "code",
   "execution_count": 53,
   "metadata": {},
   "outputs": [
    {
     "data": {
      "text/plain": [
       "Text(0.5,0,'Mass (g)')"
      ]
     },
     "execution_count": 53,
     "metadata": {},
     "output_type": "execute_result"
    },
    {
     "data": {
      "image/png": "[encoded data removed]",
      "text/plain": [
       "<Figure size 640x480 with 1 Axes>"
      ]
     },
     "metadata": {},
     "output_type": "display_data"
    }
   ],
   "source": [
    "mass = df.mass\n",
    "mean = np.mean(mass)\n",
    "std = np.std(mass)\n",
    "length = len(df)\n",
    "p=norm.pdf(mass, mean, std)\n",
    "figure(num=None, figsize=(8, 6), dpi=80, facecolor='w', edgecolor='k')\n",
    "plt.plot(mass, p)\n",
    "plt.margins(0.2)\n",
    "plt.title ('Probability Density Function')\n",
    "plt.xlabel('Mass (g)')"
   ]
  },
  {
   "cell_type": "markdown",
   "metadata": {},
   "source": [
    "The PDF has a weird shape. It doesn't tell us a lot about the distribution either. "
   ]
  },
  {
   "cell_type": "markdown",
   "metadata": {},
   "source": [
    "Last thing, we know that the mean of our population is 1.534274e+03g. But is it the true mean? To make sure that it is the case it is advisable to perform a z-test.\n",
    "\n",
    "## What is a t-score?\n",
    "\n",
    "Simply put, a t-score is the number of standard deviations from the mean a data point is. It helps us to determine the true mean of our population.\n",
    "\n",
    "## Why a t-test and not a z-test?\n",
    "\n",
    "Simply because the standard deviation of our sample is uknown. Though a t-test is best for small samples, it becomes similar to the z-test with large samples, so the results shouldn't differ much.\n",
    "\n",
    "## Performing a t-test \n",
    "\n",
    "### Null Hyothesis \n",
    "\n",
    "Ho: True Population Mean is 1.534274e+03g \n",
    "\n",
    "H1: True Population Mean is not 1.534274e+03g\n",
    "\n"
   ]
  },
  {
   "cell_type": "code",
   "execution_count": 54,
   "metadata": {},
   "outputs": [
    {
     "name": "stdout",
     "output_type": "stream",
     "text": [
      "t-statistic: 0.0\n",
      "p-value: 1.0\n"
     ]
    }
   ],
   "source": [
    "# Save results of a one sample t-test:\n",
    "t = stats.ttest_1samp(df.mass, 1534.2738281399413)[0]\n",
    "p = stats.ttest_1samp(df.mass, 1534.2738281399413)[1]\n",
    "\n",
    "print('t-statistic:', t)\n",
    "print('p-value:', p)"
   ]
  },
  {
   "cell_type": "markdown",
   "metadata": {},
   "source": [
    "The results tell us unequivocally that the true mean of the population is indeed  1534.2738281399413g."
   ]
  },
  {
   "cell_type": "markdown",
   "metadata": {},
   "source": [
    "## Conclusion\n",
    "\n",
    "The dataset is not normally distributed. After some statistical analysis I haven't learnt a lot about it. It was worth trying though."
   ]
  },
  {
   "cell_type": "markdown",
   "metadata": {},
   "source": [
    "# IV. Machine Learning \n",
    "\n",
    "Here comes the fun part: machine learning. The dataset being very tedious, I am not expecting miracles. However, I am certain that using the right algorithms I can predict something interesting. \n",
    "\n",
    "## Note\n",
    "\n",
    "I have tried numerous algorithms on the dataset. My experiments can be found here: https://github.com/youcefjd/Meteorite-Project-Phase-4/blob/master/Machine_Learning%20(1).ipynb\n",
    "\n",
    "I am, here, going to use what I learned from the experiments to directly apply the best algorithms on the dataset."
   ]
  },
  {
   "cell_type": "markdown",
   "metadata": {},
   "source": [
    "### What to predict?\n",
    "\n",
    "Based on some selected features, I will try to predict where the next meteorite landing will occur. A bit ambitious but worth a try.\n",
    "\n",
    "### Random Forests Regressor\n",
    "\n",
    "From my experiments, I have determined that RFR is the algorithm that gives the best results on the dataset. "
   ]
  },
  {
   "cell_type": "code",
   "execution_count": 55,
   "metadata": {},
   "outputs": [
    {
     "data": {
      "text/plain": [
       "name           0\n",
       "id             0\n",
       "nametype       0\n",
       "recclass       0\n",
       "mass           0\n",
       "fall           0\n",
       "year           0\n",
       "reclat         0\n",
       "reclong        0\n",
       "GeoLocation    0\n",
       "dtype: int64"
      ]
     },
     "execution_count": 55,
     "metadata": {},
     "output_type": "execute_result"
    }
   ],
   "source": [
    "# Making sure that we have no NaNs\n",
    "df.isnull().sum()"
   ]
  },
  {
   "cell_type": "code",
   "execution_count": 56,
   "metadata": {},
   "outputs": [
    {
     "data": {
      "text/html": [
       "<div>\n",
       "<style scoped>\n",
       "    .dataframe tbody tr th:only-of-type {\n",
       "        vertical-align: middle;\n",
       "    }\n",
       "\n",
       "    .dataframe tbody tr th {\n",
       "        vertical-align: top;\n",
       "    }\n",
       "\n",
       "    .dataframe thead th {\n",
       "        text-align: right;\n",
       "    }\n",
       "</style>\n",
       "<table border=\"1\" class=\"dataframe\">\n",
       "  <thead>\n",
       "    <tr style=\"text-align: right;\">\n",
       "      <th></th>\n",
       "      <th>name</th>\n",
       "      <th>id</th>\n",
       "      <th>nametype</th>\n",
       "      <th>recclass</th>\n",
       "      <th>mass</th>\n",
       "      <th>fall</th>\n",
       "      <th>year</th>\n",
       "      <th>reclat</th>\n",
       "      <th>reclong</th>\n",
       "      <th>GeoLocation</th>\n",
       "    </tr>\n",
       "  </thead>\n",
       "  <tbody>\n",
       "    <tr>\n",
       "      <th>0</th>\n",
       "      <td>Aachen</td>\n",
       "      <td>1</td>\n",
       "      <td>Valid</td>\n",
       "      <td>L5</td>\n",
       "      <td>21.0</td>\n",
       "      <td>Fell</td>\n",
       "      <td>1880.0</td>\n",
       "      <td>50.77500</td>\n",
       "      <td>6.08333</td>\n",
       "      <td>(50.775000, 6.083330)</td>\n",
       "    </tr>\n",
       "    <tr>\n",
       "      <th>1</th>\n",
       "      <td>Aarhus</td>\n",
       "      <td>2</td>\n",
       "      <td>Valid</td>\n",
       "      <td>H6</td>\n",
       "      <td>720.0</td>\n",
       "      <td>Fell</td>\n",
       "      <td>1951.0</td>\n",
       "      <td>56.18333</td>\n",
       "      <td>10.23333</td>\n",
       "      <td>(56.183330, 10.233330)</td>\n",
       "    </tr>\n",
       "    <tr>\n",
       "      <th>4</th>\n",
       "      <td>Achiras</td>\n",
       "      <td>370</td>\n",
       "      <td>Valid</td>\n",
       "      <td>L6</td>\n",
       "      <td>780.0</td>\n",
       "      <td>Fell</td>\n",
       "      <td>1902.0</td>\n",
       "      <td>-33.16667</td>\n",
       "      <td>-64.95000</td>\n",
       "      <td>(-33.166670, -64.950000)</td>\n",
       "    </tr>\n",
       "    <tr>\n",
       "      <th>7</th>\n",
       "      <td>Agen</td>\n",
       "      <td>392</td>\n",
       "      <td>Valid</td>\n",
       "      <td>H5</td>\n",
       "      <td>30000.0</td>\n",
       "      <td>Fell</td>\n",
       "      <td>1814.0</td>\n",
       "      <td>44.21667</td>\n",
       "      <td>0.61667</td>\n",
       "      <td>(44.216670, 0.616670)</td>\n",
       "    </tr>\n",
       "    <tr>\n",
       "      <th>8</th>\n",
       "      <td>Aguada</td>\n",
       "      <td>398</td>\n",
       "      <td>Valid</td>\n",
       "      <td>L6</td>\n",
       "      <td>1620.0</td>\n",
       "      <td>Fell</td>\n",
       "      <td>1930.0</td>\n",
       "      <td>-31.60000</td>\n",
       "      <td>-65.23333</td>\n",
       "      <td>(-31.600000, -65.233330)</td>\n",
       "    </tr>\n",
       "  </tbody>\n",
       "</table>\n",
       "</div>"
      ],
      "text/plain": [
       "      name   id nametype recclass     mass  fall    year    reclat   reclong  \\\n",
       "0   Aachen    1    Valid       L5     21.0  Fell  1880.0  50.77500   6.08333   \n",
       "1   Aarhus    2    Valid       H6    720.0  Fell  1951.0  56.18333  10.23333   \n",
       "4  Achiras  370    Valid       L6    780.0  Fell  1902.0 -33.16667 -64.95000   \n",
       "7     Agen  392    Valid       H5  30000.0  Fell  1814.0  44.21667   0.61667   \n",
       "8   Aguada  398    Valid       L6   1620.0  Fell  1930.0 -31.60000 -65.23333   \n",
       "\n",
       "                GeoLocation  \n",
       "0     (50.775000, 6.083330)  \n",
       "1    (56.183330, 10.233330)  \n",
       "4  (-33.166670, -64.950000)  \n",
       "7     (44.216670, 0.616670)  \n",
       "8  (-31.600000, -65.233330)  "
      ]
     },
     "execution_count": 56,
     "metadata": {},
     "output_type": "execute_result"
    }
   ],
   "source": [
    "df.head()"
   ]
  },
  {
   "cell_type": "code",
   "execution_count": 61,
   "metadata": {},
   "outputs": [],
   "source": [
    "# Selecting the features and the target variable \n",
    "\n",
    "X = df[['recclass', 'mass', 'year']] # Selecting the class of the meteorite, their mass and the predicted landing year\n",
    "y = df[['reclat', 'reclong']] # The target variable represents the latitude and longitude of the expected landing"
   ]
  },
  {
   "cell_type": "code",
   "execution_count": 62,
   "metadata": {},
   "outputs": [],
   "source": [
    "X_train, X_test, y_train, y_test = train_test_split(X, y, random_state = 0) "
   ]
  },
  {
   "cell_type": "code",
   "execution_count": 63,
   "metadata": {},
   "outputs": [
    {
     "name": "stderr",
     "output_type": "stream",
     "text": [
      "/Users/youcefdjeddar/anaconda3/envs/fastai-cpu/lib/python3.6/site-packages/sklearn/ensemble/forest.py:248: FutureWarning: The default value of n_estimators will change from 10 in version 0.20 to 100 in 0.22.\n",
      "  \"10 in version 0.20 to 100 in 0.22.\", FutureWarning)\n"
     ]
    },
    {
     "ename": "ValueError",
     "evalue": "could not convert string to float: 'L6'",
     "output_type": "error",
     "traceback": [
      "\u001b[0;31m---------------------------------------------------------------------------\u001b[0m",
      "\u001b[0;31mValueError\u001b[0m                                Traceback (most recent call last)",
      "\u001b[0;32m<ipython-input-63-84338edde7a9>\u001b[0m in \u001b[0;36m<module>\u001b[0;34m\u001b[0m\n\u001b[0;32m----> 1\u001b[0;31m \u001b[0mrfr\u001b[0m \u001b[0;34m=\u001b[0m \u001b[0mRandomForestRegressor\u001b[0m\u001b[0;34m(\u001b[0m\u001b[0;34m)\u001b[0m\u001b[0;34m.\u001b[0m\u001b[0mfit\u001b[0m\u001b[0;34m(\u001b[0m\u001b[0mX_train\u001b[0m\u001b[0;34m,\u001b[0m \u001b[0my_train\u001b[0m\u001b[0;34m)\u001b[0m\u001b[0;34m\u001b[0m\u001b[0m\n\u001b[0m",
      "\u001b[0;32m~/anaconda3/envs/fastai-cpu/lib/python3.6/site-packages/sklearn/ensemble/forest.py\u001b[0m in \u001b[0;36mfit\u001b[0;34m(self, X, y, sample_weight)\u001b[0m\n\u001b[1;32m    250\u001b[0m \u001b[0;34m\u001b[0m\u001b[0m\n\u001b[1;32m    251\u001b[0m         \u001b[0;31m# Validate or convert input data\u001b[0m\u001b[0;34m\u001b[0m\u001b[0;34m\u001b[0m\u001b[0m\n\u001b[0;32m--> 252\u001b[0;31m         \u001b[0mX\u001b[0m \u001b[0;34m=\u001b[0m \u001b[0mcheck_array\u001b[0m\u001b[0;34m(\u001b[0m\u001b[0mX\u001b[0m\u001b[0;34m,\u001b[0m \u001b[0maccept_sparse\u001b[0m\u001b[0;34m=\u001b[0m\u001b[0;34m\"csc\"\u001b[0m\u001b[0;34m,\u001b[0m \u001b[0mdtype\u001b[0m\u001b[0;34m=\u001b[0m\u001b[0mDTYPE\u001b[0m\u001b[0;34m)\u001b[0m\u001b[0;34m\u001b[0m\u001b[0m\n\u001b[0m\u001b[1;32m    253\u001b[0m         \u001b[0my\u001b[0m \u001b[0;34m=\u001b[0m \u001b[0mcheck_array\u001b[0m\u001b[0;34m(\u001b[0m\u001b[0my\u001b[0m\u001b[0;34m,\u001b[0m \u001b[0maccept_sparse\u001b[0m\u001b[0;34m=\u001b[0m\u001b[0;34m'csc'\u001b[0m\u001b[0;34m,\u001b[0m \u001b[0mensure_2d\u001b[0m\u001b[0;34m=\u001b[0m\u001b[0;32mFalse\u001b[0m\u001b[0;34m,\u001b[0m \u001b[0mdtype\u001b[0m\u001b[0;34m=\u001b[0m\u001b[0;32mNone\u001b[0m\u001b[0;34m)\u001b[0m\u001b[0;34m\u001b[0m\u001b[0m\n\u001b[1;32m    254\u001b[0m         \u001b[0;32mif\u001b[0m \u001b[0msample_weight\u001b[0m \u001b[0;32mis\u001b[0m \u001b[0;32mnot\u001b[0m \u001b[0;32mNone\u001b[0m\u001b[0;34m:\u001b[0m\u001b[0;34m\u001b[0m\u001b[0m\n",
      "\u001b[0;32m~/anaconda3/envs/fastai-cpu/lib/python3.6/site-packages/sklearn/utils/validation.py\u001b[0m in \u001b[0;36mcheck_array\u001b[0;34m(array, accept_sparse, accept_large_sparse, dtype, order, copy, force_all_finite, ensure_2d, allow_nd, ensure_min_samples, ensure_min_features, warn_on_dtype, estimator)\u001b[0m\n\u001b[1;32m    520\u001b[0m             \u001b[0;32mtry\u001b[0m\u001b[0;34m:\u001b[0m\u001b[0;34m\u001b[0m\u001b[0m\n\u001b[1;32m    521\u001b[0m                 \u001b[0mwarnings\u001b[0m\u001b[0;34m.\u001b[0m\u001b[0msimplefilter\u001b[0m\u001b[0;34m(\u001b[0m\u001b[0;34m'error'\u001b[0m\u001b[0;34m,\u001b[0m \u001b[0mComplexWarning\u001b[0m\u001b[0;34m)\u001b[0m\u001b[0;34m\u001b[0m\u001b[0m\n\u001b[0;32m--> 522\u001b[0;31m                 \u001b[0marray\u001b[0m \u001b[0;34m=\u001b[0m \u001b[0mnp\u001b[0m\u001b[0;34m.\u001b[0m\u001b[0masarray\u001b[0m\u001b[0;34m(\u001b[0m\u001b[0marray\u001b[0m\u001b[0;34m,\u001b[0m \u001b[0mdtype\u001b[0m\u001b[0;34m=\u001b[0m\u001b[0mdtype\u001b[0m\u001b[0;34m,\u001b[0m \u001b[0morder\u001b[0m\u001b[0;34m=\u001b[0m\u001b[0morder\u001b[0m\u001b[0;34m)\u001b[0m\u001b[0;34m\u001b[0m\u001b[0m\n\u001b[0m\u001b[1;32m    523\u001b[0m             \u001b[0;32mexcept\u001b[0m \u001b[0mComplexWarning\u001b[0m\u001b[0;34m:\u001b[0m\u001b[0;34m\u001b[0m\u001b[0m\n\u001b[1;32m    524\u001b[0m                 raise ValueError(\"Complex data not supported\\n\"\n",
      "\u001b[0;32m~/anaconda3/envs/fastai-cpu/lib/python3.6/site-packages/numpy/core/numeric.py\u001b[0m in \u001b[0;36masarray\u001b[0;34m(a, dtype, order)\u001b[0m\n\u001b[1;32m    499\u001b[0m \u001b[0;34m\u001b[0m\u001b[0m\n\u001b[1;32m    500\u001b[0m     \"\"\"\n\u001b[0;32m--> 501\u001b[0;31m     \u001b[0;32mreturn\u001b[0m \u001b[0marray\u001b[0m\u001b[0;34m(\u001b[0m\u001b[0ma\u001b[0m\u001b[0;34m,\u001b[0m \u001b[0mdtype\u001b[0m\u001b[0;34m,\u001b[0m \u001b[0mcopy\u001b[0m\u001b[0;34m=\u001b[0m\u001b[0;32mFalse\u001b[0m\u001b[0;34m,\u001b[0m \u001b[0morder\u001b[0m\u001b[0;34m=\u001b[0m\u001b[0morder\u001b[0m\u001b[0;34m)\u001b[0m\u001b[0;34m\u001b[0m\u001b[0m\n\u001b[0m\u001b[1;32m    502\u001b[0m \u001b[0;34m\u001b[0m\u001b[0m\n\u001b[1;32m    503\u001b[0m \u001b[0;34m\u001b[0m\u001b[0m\n",
      "\u001b[0;31mValueError\u001b[0m: could not convert string to float: 'L6'"
     ]
    }
   ],
   "source": [
    "rfr = RandomForestRegressor().fit(X_train, y_train)"
   ]
  },
  {
   "cell_type": "markdown",
   "metadata": {},
   "source": [
    "Scikit learn does not support string variables. An encoding is therefore necessary. We have two options, the \"get_dummies\" method or the Label Encoder furnished by sklearn. The former creates a column for each string sample and the latter replaces each string by a number in the same column (mapping).\n",
    "\n",
    "I will choose the Label Encoder since it requires less memory."
   ]
  },
  {
   "cell_type": "code",
   "execution_count": 64,
   "metadata": {},
   "outputs": [
    {
     "name": "stderr",
     "output_type": "stream",
     "text": [
      "/Users/youcefdjeddar/anaconda3/envs/fastai-cpu/lib/python3.6/site-packages/ipykernel_launcher.py:2: SettingWithCopyWarning: \n",
      "A value is trying to be set on a copy of a slice from a DataFrame.\n",
      "Try using .loc[row_indexer,col_indexer] = value instead\n",
      "\n",
      "See the caveats in the documentation: http://pandas.pydata.org/pandas-docs/stable/indexing.html#indexing-view-versus-copy\n",
      "  \n"
     ]
    }
   ],
   "source": [
    "from sklearn.preprocessing import LabelEncoder\n",
    "df['recclass'] = LabelEncoder().fit_transform(df['recclass'])"
   ]
  },
  {
   "cell_type": "code",
   "execution_count": 65,
   "metadata": {},
   "outputs": [
    {
     "data": {
      "text/html": [
       "<div>\n",
       "<style scoped>\n",
       "    .dataframe tbody tr th:only-of-type {\n",
       "        vertical-align: middle;\n",
       "    }\n",
       "\n",
       "    .dataframe tbody tr th {\n",
       "        vertical-align: top;\n",
       "    }\n",
       "\n",
       "    .dataframe thead th {\n",
       "        text-align: right;\n",
       "    }\n",
       "</style>\n",
       "<table border=\"1\" class=\"dataframe\">\n",
       "  <thead>\n",
       "    <tr style=\"text-align: right;\">\n",
       "      <th></th>\n",
       "      <th>name</th>\n",
       "      <th>id</th>\n",
       "      <th>nametype</th>\n",
       "      <th>recclass</th>\n",
       "      <th>mass</th>\n",
       "      <th>fall</th>\n",
       "      <th>year</th>\n",
       "      <th>reclat</th>\n",
       "      <th>reclong</th>\n",
       "      <th>GeoLocation</th>\n",
       "    </tr>\n",
       "  </thead>\n",
       "  <tbody>\n",
       "    <tr>\n",
       "      <th>0</th>\n",
       "      <td>Aachen</td>\n",
       "      <td>1</td>\n",
       "      <td>Valid</td>\n",
       "      <td>6</td>\n",
       "      <td>21.0</td>\n",
       "      <td>Fell</td>\n",
       "      <td>1880.0</td>\n",
       "      <td>50.77500</td>\n",
       "      <td>6.08333</td>\n",
       "      <td>(50.775000, 6.083330)</td>\n",
       "    </tr>\n",
       "    <tr>\n",
       "      <th>1</th>\n",
       "      <td>Aarhus</td>\n",
       "      <td>2</td>\n",
       "      <td>Valid</td>\n",
       "      <td>4</td>\n",
       "      <td>720.0</td>\n",
       "      <td>Fell</td>\n",
       "      <td>1951.0</td>\n",
       "      <td>56.18333</td>\n",
       "      <td>10.23333</td>\n",
       "      <td>(56.183330, 10.233330)</td>\n",
       "    </tr>\n",
       "    <tr>\n",
       "      <th>4</th>\n",
       "      <td>Achiras</td>\n",
       "      <td>370</td>\n",
       "      <td>Valid</td>\n",
       "      <td>7</td>\n",
       "      <td>780.0</td>\n",
       "      <td>Fell</td>\n",
       "      <td>1902.0</td>\n",
       "      <td>-33.16667</td>\n",
       "      <td>-64.95000</td>\n",
       "      <td>(-33.166670, -64.950000)</td>\n",
       "    </tr>\n",
       "    <tr>\n",
       "      <th>7</th>\n",
       "      <td>Agen</td>\n",
       "      <td>392</td>\n",
       "      <td>Valid</td>\n",
       "      <td>3</td>\n",
       "      <td>30000.0</td>\n",
       "      <td>Fell</td>\n",
       "      <td>1814.0</td>\n",
       "      <td>44.21667</td>\n",
       "      <td>0.61667</td>\n",
       "      <td>(44.216670, 0.616670)</td>\n",
       "    </tr>\n",
       "    <tr>\n",
       "      <th>8</th>\n",
       "      <td>Aguada</td>\n",
       "      <td>398</td>\n",
       "      <td>Valid</td>\n",
       "      <td>7</td>\n",
       "      <td>1620.0</td>\n",
       "      <td>Fell</td>\n",
       "      <td>1930.0</td>\n",
       "      <td>-31.60000</td>\n",
       "      <td>-65.23333</td>\n",
       "      <td>(-31.600000, -65.233330)</td>\n",
       "    </tr>\n",
       "  </tbody>\n",
       "</table>\n",
       "</div>"
      ],
      "text/plain": [
       "      name   id nametype  recclass     mass  fall    year    reclat   reclong  \\\n",
       "0   Aachen    1    Valid         6     21.0  Fell  1880.0  50.77500   6.08333   \n",
       "1   Aarhus    2    Valid         4    720.0  Fell  1951.0  56.18333  10.23333   \n",
       "4  Achiras  370    Valid         7    780.0  Fell  1902.0 -33.16667 -64.95000   \n",
       "7     Agen  392    Valid         3  30000.0  Fell  1814.0  44.21667   0.61667   \n",
       "8   Aguada  398    Valid         7   1620.0  Fell  1930.0 -31.60000 -65.23333   \n",
       "\n",
       "                GeoLocation  \n",
       "0     (50.775000, 6.083330)  \n",
       "1    (56.183330, 10.233330)  \n",
       "4  (-33.166670, -64.950000)  \n",
       "7     (44.216670, 0.616670)  \n",
       "8  (-31.600000, -65.233330)  "
      ]
     },
     "execution_count": 65,
     "metadata": {},
     "output_type": "execute_result"
    }
   ],
   "source": [
    "df.head()"
   ]
  },
  {
   "cell_type": "code",
   "execution_count": null,
   "metadata": {},
   "outputs": [],
   "source": []
  },
  {
   "cell_type": "markdown",
   "metadata": {},
   "source": [
    "As we can see, all the classes have been replaced by a number, unique to each class."
   ]
  },
  {
   "cell_type": "code",
   "execution_count": 66,
   "metadata": {},
   "outputs": [],
   "source": [
    "X = df[['recclass', 'mass', 'year']] # Selecting the class of the meteorite, their mass and the predicted landing year\n",
    "y = df[['reclat', 'reclong']] # The target variable represents the latitude and longitude of the expected landing"
   ]
  },
  {
   "cell_type": "code",
   "execution_count": 67,
   "metadata": {},
   "outputs": [
    {
     "name": "stderr",
     "output_type": "stream",
     "text": [
      "/Users/youcefdjeddar/anaconda3/envs/fastai-cpu/lib/python3.6/site-packages/sklearn/ensemble/forest.py:248: FutureWarning: The default value of n_estimators will change from 10 in version 0.20 to 100 in 0.22.\n",
      "  \"10 in version 0.20 to 100 in 0.22.\", FutureWarning)\n"
     ]
    }
   ],
   "source": [
    "X_train, X_test, y_train, y_test = train_test_split(X, y, random_state = 0) \n",
    "rfr = RandomForestRegressor().fit(X_train, y_train)"
   ]
  },
  {
   "cell_type": "code",
   "execution_count": 68,
   "metadata": {},
   "outputs": [
    {
     "name": "stdout",
     "output_type": "stream",
     "text": [
      "Training set score: 0.92\n",
      "Test set score: 0.53\n",
      "CPU times: user 280 ms, sys: 9.85 ms, total: 290 ms\n",
      "Wall time: 290 ms\n"
     ]
    },
    {
     "data": {
      "text/plain": [
       "RandomForestRegressor(bootstrap=True, criterion='mse', max_depth=None,\n",
       "           max_features='auto', max_leaf_nodes=None,\n",
       "           min_impurity_decrease=0.0, min_impurity_split=None,\n",
       "           min_samples_leaf=1, min_samples_split=2,\n",
       "           min_weight_fraction_leaf=0.0, n_estimators=10, n_jobs=None,\n",
       "           oob_score=False, random_state=None, verbose=0, warm_start=False)"
      ]
     },
     "execution_count": 68,
     "metadata": {},
     "output_type": "execute_result"
    }
   ],
   "source": [
    "print(\"Training set score: {:.2f}\".format(rfr.score(X_train, y_train)))\n",
    "print(\"Test set score: {:.2f}\".format(rfr.score(X_test, y_test)))\n",
    "%time rfr.fit(X_train, y_train)"
   ]
  },
  {
   "cell_type": "markdown",
   "metadata": {},
   "source": [
    "Clear overfitting. However, the score on the test set is very good. The algorithm can now predict, with 53% accuracy, where exactly the next meteorite landing will occur. "
   ]
  },
  {
   "cell_type": "markdown",
   "metadata": {},
   "source": [
    "Random Forest has different parameters that we can explore to possibly enhance the score on the test set."
   ]
  },
  {
   "cell_type": "code",
   "execution_count": 69,
   "metadata": {},
   "outputs": [
    {
     "name": "stdout",
     "output_type": "stream",
     "text": [
      "Training set score: 0.74\n",
      "Test set score: 0.33\n",
      "CPU times: user 37.9 ms, sys: 1.27 ms, total: 39.2 ms\n",
      "Wall time: 40.9 ms\n"
     ]
    },
    {
     "data": {
      "text/plain": [
       "RandomForestRegressor(bootstrap=True, criterion='mse', max_depth=None,\n",
       "           max_features='auto', max_leaf_nodes=None,\n",
       "           min_impurity_decrease=0.0, min_impurity_split=None,\n",
       "           min_samples_leaf=1, min_samples_split=2,\n",
       "           min_weight_fraction_leaf=0.0, n_estimators=1, n_jobs=None,\n",
       "           oob_score=False, random_state=None, verbose=0, warm_start=False)"
      ]
     },
     "execution_count": 69,
     "metadata": {},
     "output_type": "execute_result"
    }
   ],
   "source": [
    "rfr = RandomForestRegressor(n_estimators = 1).fit(X_train, y_train)\n",
    "print(\"Training set score: {:.2f}\".format(rfr.score(X_train, y_train)))\n",
    "print(\"Test set score: {:.2f}\".format(rfr.score(X_test, y_test)))\n",
    "%time rfr.fit(X_train, y_train)"
   ]
  },
  {
   "cell_type": "markdown",
   "metadata": {},
   "source": [
    "Random Forest with one single estimator is equivalent to the decision tree algorithm."
   ]
  },
  {
   "cell_type": "markdown",
   "metadata": {},
   "source": [
    "Below are further exploration of the algorithm in order to prevent it from overfitting. I will also attempt to play around with some parameters to find the best combination for the dataset. "
   ]
  },
  {
   "cell_type": "markdown",
   "metadata": {},
   "source": [
    "## Cross Validation"
   ]
  },
  {
   "cell_type": "code",
   "execution_count": 70,
   "metadata": {
    "scrolled": true
   },
   "outputs": [
    {
     "name": "stdout",
     "output_type": "stream",
     "text": [
      "Training set score: 0.77\n",
      "Test set score: 0.58\n",
      "CPU times: user 245 ms, sys: 6.8 ms, total: 252 ms\n",
      "Wall time: 253 ms\n"
     ]
    },
    {
     "data": {
      "text/plain": [
       "RandomForestRegressor(bootstrap=True, criterion='mse', max_depth=None,\n",
       "           max_features=0.5, max_leaf_nodes=None,\n",
       "           min_impurity_decrease=0.0, min_impurity_split=None,\n",
       "           min_samples_leaf=3, min_samples_split=2,\n",
       "           min_weight_fraction_leaf=0.0, n_estimators=20, n_jobs=1,\n",
       "           oob_score=False, random_state=None, verbose=0, warm_start=False)"
      ]
     },
     "execution_count": 70,
     "metadata": {},
     "output_type": "execute_result"
    }
   ],
   "source": [
    "rfr = RandomForestRegressor(n_estimators = 20, min_samples_leaf = 3, max_features = 0.5, n_jobs = 1).fit(X_train, y_train)\n",
    "print(\"Training set score: {:.2f}\".format(rfr.score(X_train, y_train)))\n",
    "print(\"Test set score: {:.2f}\".format(rfr.score(X_test, y_test)))\n",
    "%time rfr.fit(X_train, y_train)"
   ]
  },
  {
   "cell_type": "code",
   "execution_count": 75,
   "metadata": {
    "scrolled": true
   },
   "outputs": [
    {
     "name": "stdout",
     "output_type": "stream",
     "text": [
      "Average cross-validation score: 0.57\n",
      "CPU times: user 1.14 s, sys: 7.37 ms, total: 1.15 s\n",
      "Wall time: 1.17 s\n"
     ]
    },
    {
     "data": {
      "text/plain": [
       "array([0.64982, 0.53514, 0.63638, 0.57458, 0.5523 , 0.55414, 0.50895, 0.5927 , 0.55157, 0.60854, 0.58165,\n",
       "       0.63729, 0.52837, 0.5692 , 0.53049])"
      ]
     },
     "execution_count": 75,
     "metadata": {},
     "output_type": "execute_result"
    }
   ],
   "source": [
    "kfold = KFold(n_splits=15, shuffle=True, random_state=0)\n",
    "scores = cross_val_score(rfr, X_test, y_test, cv =kfold)  \n",
    "print(\"Average cross-validation score: {:.2f}\".format(scores.mean()))\n",
    "%time cross_val_score(rfr, X_test, y_test, cv =kfold)"
   ]
  },
  {
   "cell_type": "code",
   "execution_count": 76,
   "metadata": {},
   "outputs": [
    {
     "name": "stdout",
     "output_type": "stream",
     "text": [
      "Average cross-validation score: 0.57\n",
      "CPU times: user 1.18 s, sys: 9.42 ms, total: 1.19 s\n",
      "Wall time: 1.21 s\n"
     ]
    },
    {
     "data": {
      "text/plain": [
       "array([0.58127, 0.60563, 0.55419, 0.64297, 0.58575, 0.57143, 0.57467, 0.53905, 0.52655, 0.57767, 0.58325,\n",
       "       0.53887, 0.53536, 0.56473, 0.56671])"
      ]
     },
     "execution_count": 76,
     "metadata": {},
     "output_type": "execute_result"
    }
   ],
   "source": [
    "kfold = KFold(n_splits=15, shuffle=False, random_state=0)\n",
    "scores = cross_val_score(rfr, X_test, y_test, cv =kfold)  \n",
    "print(\"Average cross-validation score: {:.2f}\".format(scores.mean()))\n",
    "%time cross_val_score(rfr, X_test, y_test, cv =kfold)"
   ]
  },
  {
   "cell_type": "markdown",
   "metadata": {},
   "source": [
    "The results are quite encouraging. Let's see if the algorithm can do better."
   ]
  },
  {
   "cell_type": "markdown",
   "metadata": {},
   "source": [
    "## Grid Search "
   ]
  },
  {
   "cell_type": "code",
   "execution_count": 77,
   "metadata": {},
   "outputs": [
    {
     "name": "stdout",
     "output_type": "stream",
     "text": [
      "Size of training set: 17058    size of validation set: 5687     size of test set: 7582\n",
      "\n",
      "Best score on validation set: 0.63\n",
      "Best parameters:  {'n_estimators': 100, 'min_samples_leaf': 10, 'max_depth': 15, 'n_jobs': -1}\n",
      "Test set score with best parameters: 0.63\n"
     ]
    }
   ],
   "source": [
    "# split data into train+validation set and test set \n",
    "X_trainval, X_test, y_trainval, y_test = train_test_split(X, y, random_state=0)\n",
    "# split train+validation set into training and validation sets \n",
    "X_train, X_valid, y_train, y_valid = train_test_split(X_trainval, y_trainval, random_state=1)\n",
    "print(\"Size of training set: {}    size of validation set: {}     size of test set:\"\n",
    "      \" {}\\n\".format(X_train.shape[0], X_valid.shape[0], X_test.shape[0]))\n",
    "best_score = 0\n",
    "for n_estimators in [1, 10, 20,  50, 100, 200]:\n",
    "    for min_samples_leaf in [1, 3, 10, 20, 50, 100]:\n",
    "        for max_depth in [1, 2, 3, 4, 5, 10, 15]:\n",
    "            for n_jobs in [-1, 1, 2, 5, 10]:\n",
    "                rf = RandomForestRegressor(n_estimators = n_estimators,min_samples_leaf = min_samples_leaf,\n",
    "                                      max_depth = max_depth, n_jobs = n_jobs )\n",
    "                rf.fit(X_train, y_train)\n",
    "                score = rf.score(X_valid, y_valid)\n",
    "                if score > best_score:\n",
    "                    best_score = score\n",
    "                    best_parameters = {'n_estimators': n_estimators, 'min_samples_leaf': min_samples_leaf,\n",
    "                              'max_depth': max_depth,'n_jobs': n_jobs}\n",
    "                    rf = RandomForestRegressor(**best_parameters)\n",
    "                    rf.fit(X_trainval, y_trainval)\n",
    "                    test_score = rf.score(X_test, y_test)\n",
    "print(\"Best score on validation set: {:.2f}\".format(best_score)) \n",
    "print(\"Best parameters: \", best_parameters)\n",
    "print(\"Test set score with best parameters: {:.2f}\".format(test_score))"
   ]
  },
  {
   "cell_type": "markdown",
   "metadata": {},
   "source": [
    "The function selects the best values of the four parameters. "
   ]
  },
  {
   "cell_type": "code",
   "execution_count": 82,
   "metadata": {},
   "outputs": [
    {
     "name": "stdout",
     "output_type": "stream",
     "text": [
      "Training set score: 0.69\n",
      "Test set score: 0.62\n",
      "CPU times: user 2.25 s, sys: 15.4 ms, total: 2.26 s\n",
      "Wall time: 833 ms\n"
     ]
    },
    {
     "data": {
      "text/plain": [
       "RandomForestRegressor(bootstrap=True, criterion='mse', max_depth=15,\n",
       "           max_features='auto', max_leaf_nodes=None,\n",
       "           min_impurity_decrease=0.0, min_impurity_split=None,\n",
       "           min_samples_leaf=10, min_samples_split=2,\n",
       "           min_weight_fraction_leaf=0.0, n_estimators=100, n_jobs=-1,\n",
       "           oob_score=True, random_state=None, verbose=0, warm_start=False)"
      ]
     },
     "execution_count": 82,
     "metadata": {},
     "output_type": "execute_result"
    }
   ],
   "source": [
    "rfr = RandomForestRegressor(n_estimators = 100, min_samples_leaf = 10, max_depth = 15, n_jobs = -1, oob_score = True).fit(X_train, y_train)\n",
    "print(\"Training set score: {:.2f}\".format(rfr.score(X_train, y_train)))\n",
    "print(\"Test set score: {:.2f}\".format(rfr.score(X_test, y_test)))\n",
    "%time rfr.fit(X_train, y_train)"
   ]
  },
  {
   "cell_type": "markdown",
   "metadata": {},
   "source": [
    "## Understanding Grid Search  \n",
    "The reason why I chose to incorporate the validation set into the function is simple: \n",
    "\n",
    "I used the test data to adjust the parameters, I can no longer use it to assess how good the model is. This is the same reason we traditionally need to split the data into training and test sets in the first place; we need an independent dataset to evaluate, one that was not used to create the model.\n",
    "\n",
    "## Understanding the selected parameters\n",
    "\n",
    "n_estimators = number of trees in the foreset\n",
    "\n",
    "max_depth = max number of levels in each decision tree\n",
    "\n",
    "min_samples_leaf = min number of data points allowed in a leaf node\n",
    "\n",
    "n_jobs = The number of jobs to run in parallel for both fit and predict. None means 1 unless in a joblib.parallel_backend context. -1 means using all processors. "
   ]
  },
  {
   "cell_type": "markdown",
   "metadata": {},
   "source": [
    "## Machine Learning Results \n",
    "\n",
    "Using Random Forest Regressor, the algorithm was able to determine, with 62% accuracy, where EXACTLY the next meteorite landings will occur, based only on the class, the mass and the expected landing year of the meteorites. Very encouraging results. "
   ]
  },
  {
   "cell_type": "markdown",
   "metadata": {},
   "source": [
    "# V. Capstone Project Summary \n",
    "\n",
    "During this interesting journey, the following objectives were reached: \n",
    "\n",
    "1. The dataset was properly cleaned;\n",
    "2. The dataset was separated into different segments, each segment having a specific purpose;\n",
    "3. Important segments were adequatly visualized via scatter plots, histograms, box plots and map boxes;\n",
    "4. Interesting statistical analysis were conducted on the dataset (t-test, EDF, PDF...); \n",
    "5. The dataset was correctly encoded to be ready for the machine learning part;\n",
    "6. After experimenting different machine learning algorithms (supervised and unsupervised) and combinations (classification and regression), Random Forest Regressor was always giving satisfying results;\n",
    "7. After a multitude of tests, determining where the next meteorite landings will occur was the most realistic prediction;\n",
    "8. With only three features that can be observed and determined via telescopes, the algorithm was giving a fair score;\n",
    "9. A cross validation and a grid search were performed on the dataset to enhance the test score and to reduce over-fitting, sucessfully. \n"
   ]
  },
  {
   "cell_type": "code",
   "execution_count": null,
   "metadata": {},
   "outputs": [],
   "source": []
  }
 ],
 "metadata": {
  "kernelspec": {
   "display_name": "Python 3",
   "language": "python",
   "name": "python3"
  },
  "language_info": {
   "codemirror_mode": {
    "name": "ipython",
    "version": 3
   },
   "file_extension": ".py",
   "mimetype": "text/x-python",
   "name": "python",
   "nbconvert_exporter": "python",
   "pygments_lexer": "ipython3",
   "version": "3.6.6"
  }
 },
 "nbformat": 4,
 "nbformat_minor": 2
}
